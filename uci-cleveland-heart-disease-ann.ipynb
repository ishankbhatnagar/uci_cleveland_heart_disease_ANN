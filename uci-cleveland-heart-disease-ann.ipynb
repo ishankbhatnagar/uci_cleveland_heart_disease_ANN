{
 "cells": [
  {
   "cell_type": "code",
   "execution_count": 1,
   "id": "1b7b164f",
   "metadata": {
    "_cell_guid": "b1076dfc-b9ad-4769-8c92-a6c4dae69d19",
    "_uuid": "8f2839f25d086af736a60e9eeb907d3b93b6e0e5",
    "execution": {
     "iopub.execute_input": "2023-10-10T11:55:26.955162Z",
     "iopub.status.busy": "2023-10-10T11:55:26.953986Z",
     "iopub.status.idle": "2023-10-10T11:55:33.472945Z",
     "shell.execute_reply": "2023-10-10T11:55:33.472001Z"
    },
    "papermill": {
     "duration": 6.528081,
     "end_time": "2023-10-10T11:55:33.475241",
     "exception": false,
     "start_time": "2023-10-10T11:55:26.947160",
     "status": "completed"
    },
    "tags": []
   },
   "outputs": [],
   "source": [
    "import pandas as pd\n",
    "import torch\n",
    "import torch.nn as nn\n",
    "import torch.optim as optim\n",
    "from sklearn.model_selection import train_test_split\n",
    "from sklearn.preprocessing import StandardScaler\n",
    "from sklearn.metrics import accuracy_score, confusion_matrix\n",
    "import matplotlib.pyplot as plt\n",
    "import seaborn as sns"
   ]
  },
  {
   "cell_type": "code",
   "execution_count": 2,
   "id": "7f4cc3c3",
   "metadata": {
    "execution": {
     "iopub.execute_input": "2023-10-10T11:55:33.485670Z",
     "iopub.status.busy": "2023-10-10T11:55:33.485108Z",
     "iopub.status.idle": "2023-10-10T11:55:33.512332Z",
     "shell.execute_reply": "2023-10-10T11:55:33.510485Z"
    },
    "papermill": {
     "duration": 0.034305,
     "end_time": "2023-10-10T11:55:33.514811",
     "exception": false,
     "start_time": "2023-10-10T11:55:33.480506",
     "status": "completed"
    },
    "tags": []
   },
   "outputs": [],
   "source": [
    "df = pd.read_csv('/kaggle/input/heart-disease-cleveland-uci/heart_cleveland_upload.csv')"
   ]
  },
  {
   "cell_type": "code",
   "execution_count": 3,
   "id": "5133cf7f",
   "metadata": {
    "execution": {
     "iopub.execute_input": "2023-10-10T11:55:33.524467Z",
     "iopub.status.busy": "2023-10-10T11:55:33.523617Z",
     "iopub.status.idle": "2023-10-10T11:55:33.544772Z",
     "shell.execute_reply": "2023-10-10T11:55:33.543141Z"
    },
    "papermill": {
     "duration": 0.029123,
     "end_time": "2023-10-10T11:55:33.547433",
     "exception": false,
     "start_time": "2023-10-10T11:55:33.518310",
     "status": "completed"
    },
    "tags": []
   },
   "outputs": [
    {
     "data": {
      "text/plain": [
       "age          0\n",
       "sex          0\n",
       "cp           0\n",
       "trestbps     0\n",
       "chol         0\n",
       "fbs          0\n",
       "restecg      0\n",
       "thalach      0\n",
       "exang        0\n",
       "oldpeak      0\n",
       "slope        0\n",
       "ca           0\n",
       "thal         0\n",
       "condition    0\n",
       "dtype: int64"
      ]
     },
     "execution_count": 3,
     "metadata": {},
     "output_type": "execute_result"
    }
   ],
   "source": [
    "df.isnull().sum()"
   ]
  },
  {
   "cell_type": "code",
   "execution_count": 4,
   "id": "013d0c38",
   "metadata": {
    "execution": {
     "iopub.execute_input": "2023-10-10T11:55:33.556459Z",
     "iopub.status.busy": "2023-10-10T11:55:33.556043Z",
     "iopub.status.idle": "2023-10-10T11:55:33.573162Z",
     "shell.execute_reply": "2023-10-10T11:55:33.571492Z"
    },
    "papermill": {
     "duration": 0.024504,
     "end_time": "2023-10-10T11:55:33.575882",
     "exception": false,
     "start_time": "2023-10-10T11:55:33.551378",
     "status": "completed"
    },
    "tags": []
   },
   "outputs": [],
   "source": [
    "X=df.drop('condition',axis=1).values\n",
    "y=df['condition'].values\n"
   ]
  },
  {
   "cell_type": "code",
   "execution_count": 5,
   "id": "cb43c79d",
   "metadata": {
    "execution": {
     "iopub.execute_input": "2023-10-10T11:55:33.584395Z",
     "iopub.status.busy": "2023-10-10T11:55:33.584037Z",
     "iopub.status.idle": "2023-10-10T11:55:33.590576Z",
     "shell.execute_reply": "2023-10-10T11:55:33.589632Z"
    },
    "papermill": {
     "duration": 0.013074,
     "end_time": "2023-10-10T11:55:33.592416",
     "exception": false,
     "start_time": "2023-10-10T11:55:33.579342",
     "status": "completed"
    },
    "tags": []
   },
   "outputs": [],
   "source": [
    "X_train, X_test, y_train, y_test = train_test_split(X, y, test_size=0.2, random_state=0)\n"
   ]
  },
  {
   "cell_type": "code",
   "execution_count": 6,
   "id": "120d97b2",
   "metadata": {
    "execution": {
     "iopub.execute_input": "2023-10-10T11:55:33.602604Z",
     "iopub.status.busy": "2023-10-10T11:55:33.601508Z",
     "iopub.status.idle": "2023-10-10T11:55:33.655316Z",
     "shell.execute_reply": "2023-10-10T11:55:33.653984Z"
    },
    "papermill": {
     "duration": 0.062613,
     "end_time": "2023-10-10T11:55:33.658842",
     "exception": false,
     "start_time": "2023-10-10T11:55:33.596229",
     "status": "completed"
    },
    "tags": []
   },
   "outputs": [],
   "source": [
    "scaler = StandardScaler()\n",
    "X_train = scaler.fit_transform(X_train)\n",
    "X_test = scaler.transform(X_test)\n",
    "X_train = torch.FloatTensor(X_train)\n",
    "X_test = torch.FloatTensor(X_test)\n",
    "y_train = torch.LongTensor(y_train)\n",
    "y_test = torch.LongTensor(y_test)"
   ]
  },
  {
   "cell_type": "code",
   "execution_count": 7,
   "id": "97463879",
   "metadata": {
    "execution": {
     "iopub.execute_input": "2023-10-10T11:55:33.673527Z",
     "iopub.status.busy": "2023-10-10T11:55:33.672803Z",
     "iopub.status.idle": "2023-10-10T11:55:33.680172Z",
     "shell.execute_reply": "2023-10-10T11:55:33.678754Z"
    },
    "papermill": {
     "duration": 0.017998,
     "end_time": "2023-10-10T11:55:33.683395",
     "exception": false,
     "start_time": "2023-10-10T11:55:33.665397",
     "status": "completed"
    },
    "tags": []
   },
   "outputs": [],
   "source": [
    "class ANN_Model(nn.Module):\n",
    "    def __init__(self, input_features, hidden1, hidden2, out_features):\n",
    "        super().__init__()\n",
    "        self.f_connected1 = nn.Linear(input_features, hidden1)\n",
    "        self.f_connected2 = nn.Linear(hidden1, hidden2)\n",
    "        self.out = nn.Linear(hidden2, out_features)\n",
    "    \n",
    "    def forward(self, x):\n",
    "        x = torch.relu(self.f_connected1(x))\n",
    "        x = torch.relu(self.f_connected2(x))\n",
    "        x = self.out(x)\n",
    "        return x"
   ]
  },
  {
   "cell_type": "code",
   "execution_count": 8,
   "id": "36b62e40",
   "metadata": {
    "execution": {
     "iopub.execute_input": "2023-10-10T11:55:33.696840Z",
     "iopub.status.busy": "2023-10-10T11:55:33.696411Z",
     "iopub.status.idle": "2023-10-10T11:55:33.719273Z",
     "shell.execute_reply": "2023-10-10T11:55:33.718525Z"
    },
    "papermill": {
     "duration": 0.032534,
     "end_time": "2023-10-10T11:55:33.721753",
     "exception": false,
     "start_time": "2023-10-10T11:55:33.689219",
     "status": "completed"
    },
    "tags": []
   },
   "outputs": [],
   "source": [
    "input_size = X_train.shape[1]\n",
    "output_size = 2  \n",
    "model = ANN_Model(input_size, 20, 20, output_size)\n",
    "criterion = nn.CrossEntropyLoss()\n",
    "optimizer = optim.Adam(model.parameters(), lr=0.001)"
   ]
  },
  {
   "cell_type": "code",
   "execution_count": 9,
   "id": "18f67274",
   "metadata": {
    "execution": {
     "iopub.execute_input": "2023-10-10T11:55:33.729947Z",
     "iopub.status.busy": "2023-10-10T11:55:33.729563Z",
     "iopub.status.idle": "2023-10-10T11:55:33.970227Z",
     "shell.execute_reply": "2023-10-10T11:55:33.968750Z"
    },
    "papermill": {
     "duration": 0.247575,
     "end_time": "2023-10-10T11:55:33.972729",
     "exception": false,
     "start_time": "2023-10-10T11:55:33.725154",
     "status": "completed"
    },
    "tags": []
   },
   "outputs": [
    {
     "name": "stdout",
     "output_type": "stream",
     "text": [
      "Epoch [10/100], Loss: 0.6481\n",
      "Epoch [20/100], Loss: 0.6132\n",
      "Epoch [30/100], Loss: 0.5699\n",
      "Epoch [40/100], Loss: 0.5203\n",
      "Epoch [50/100], Loss: 0.4686\n",
      "Epoch [60/100], Loss: 0.4206\n",
      "Epoch [70/100], Loss: 0.3816\n",
      "Epoch [80/100], Loss: 0.3542\n",
      "Epoch [90/100], Loss: 0.3361\n",
      "Epoch [100/100], Loss: 0.3235\n"
     ]
    }
   ],
   "source": [
    "epochs = 100\n",
    "final_losses = []\n",
    "\n",
    "for epoch in range(epochs):\n",
    "    optimizer.zero_grad()\n",
    "    y_pred = model(X_train)\n",
    "    loss = criterion(y_pred, y_train)\n",
    "    final_losses.append(loss.item())\n",
    "    loss.backward()\n",
    "    optimizer.step()\n",
    "\n",
    "    if (epoch + 1) % 10 == 0:\n",
    "        print(f'Epoch [{epoch+1}/{epochs}], Loss: {loss.item():.4f}')"
   ]
  },
  {
   "cell_type": "code",
   "execution_count": 10,
   "id": "ba0532f3",
   "metadata": {
    "execution": {
     "iopub.execute_input": "2023-10-10T11:55:33.982705Z",
     "iopub.status.busy": "2023-10-10T11:55:33.982082Z",
     "iopub.status.idle": "2023-10-10T11:55:33.992224Z",
     "shell.execute_reply": "2023-10-10T11:55:33.991360Z"
    },
    "papermill": {
     "duration": 0.018213,
     "end_time": "2023-10-10T11:55:33.994368",
     "exception": false,
     "start_time": "2023-10-10T11:55:33.976155",
     "status": "completed"
    },
    "tags": []
   },
   "outputs": [],
   "source": [
    "model.eval()\n",
    "with torch.no_grad():\n",
    "    y_pred_test = model(X_test)\n",
    "    y_pred_test_classes = torch.argmax(y_pred_test, dim=1)"
   ]
  },
  {
   "cell_type": "code",
   "execution_count": 11,
   "id": "9e7022a4",
   "metadata": {
    "execution": {
     "iopub.execute_input": "2023-10-10T11:55:34.004030Z",
     "iopub.status.busy": "2023-10-10T11:55:34.002918Z",
     "iopub.status.idle": "2023-10-10T11:55:34.014138Z",
     "shell.execute_reply": "2023-10-10T11:55:34.012967Z"
    },
    "papermill": {
     "duration": 0.018646,
     "end_time": "2023-10-10T11:55:34.016687",
     "exception": false,
     "start_time": "2023-10-10T11:55:33.998041",
     "status": "completed"
    },
    "tags": []
   },
   "outputs": [
    {
     "name": "stdout",
     "output_type": "stream",
     "text": [
      "Accuracy: 80.00%\n",
      "Confusion Matrix:\n",
      "[[20  2]\n",
      " [10 28]]\n"
     ]
    }
   ],
   "source": [
    "accuracy = accuracy_score(y_test, y_pred_test_classes)\n",
    "cm = confusion_matrix(y_test, y_pred_test_classes)\n",
    "print(f'Accuracy: {accuracy * 100:.2f}%')\n",
    "print('Confusion Matrix:')\n",
    "print(cm)"
   ]
  },
  {
   "cell_type": "code",
   "execution_count": 12,
   "id": "4c50f137",
   "metadata": {
    "execution": {
     "iopub.execute_input": "2023-10-10T11:55:34.025226Z",
     "iopub.status.busy": "2023-10-10T11:55:34.024872Z",
     "iopub.status.idle": "2023-10-10T11:55:34.442847Z",
     "shell.execute_reply": "2023-10-10T11:55:34.441647Z"
    },
    "papermill": {
     "duration": 0.425169,
     "end_time": "2023-10-10T11:55:34.445343",
     "exception": false,
     "start_time": "2023-10-10T11:55:34.020174",
     "status": "completed"
    },
    "tags": []
   },
   "outputs": [
    {
     "data": {
      "image/png": "[encoded data removed]",
      "text/plain": [
       "<Figure size 800x600 with 2 Axes>"
      ]
     },
     "metadata": {},
     "output_type": "display_data"
    }
   ],
   "source": [
    "plt.figure(figsize=(8, 6))\n",
    "sns.heatmap(cm, annot=True, fmt='d', cmap='Blues')\n",
    "plt.xlabel('Predicted')\n",
    "plt.ylabel('Actual')\n",
    "plt.show()"
   ]
  }
 ],
 "metadata": {
  "kernelspec": {
   "display_name": "Python 3",
   "language": "python",
   "name": "python3"
  },
  "language_info": {
   "codemirror_mode": {
    "name": "ipython",
    "version": 3
   },
   "file_extension": ".py",
   "mimetype": "text/x-python",
   "name": "python",
   "nbconvert_exporter": "python",
   "pygments_lexer": "ipython3",
   "version": "3.10.12"
  },
  "papermill": {
   "default_parameters": {},
   "duration": 12.079828,
   "end_time": "2023-10-10T11:55:35.572796",
   "environment_variables": {},
   "exception": null,
   "input_path": "__notebook__.ipynb",
   "output_path": "__notebook__.ipynb",
   "parameters": {},
   "start_time": "2023-10-10T11:55:23.492968",
   "version": "2.4.0"
  }
 },
 "nbformat": 4,
 "nbformat_minor": 5
}
